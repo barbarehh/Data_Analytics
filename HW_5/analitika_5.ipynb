{
 "cells": [
  {
   "cell_type": "markdown",
   "metadata": {
    "id": "F1JDwFdXqIvA"
   },
   "source": [
    "# **ამოცანა**\n"
   ]
  },
  {
   "cell_type": "markdown",
   "metadata": {
    "id": "nyP8JZl4_7eI"
   },
   "source": [
    "**პრობლემის აღწერა**\n",
    "\n",
    "კომპანია აწარმოებს და ყიდის ელექტრონულ მოწყობილობებს ონლაინ პლატფორმის საშუალებით. მენეჯმენტს სურს, გაიგოს, რა ფაქტორები ახდენენ გავლენას პროდუქტის საბოლოო გასაყიდ ფასზე. ჩვენი მონაცემები შეიცავს ინფორმაციას წარმოების ხარჯების, მარკეტინგული დანახარჯების, კონკურენტების ფასებისა და ბაზრის მოთხოვნის შესახებ.\n",
    "\n",
    "**ამოცანის მიზანი**\n",
    "\n",
    "ავაგოთ მოდელი, რომელიც შეგვაძლებინებს დავაპროგნოზოთ პროდუქტის ოპტიმალური გასაყიდი ფასი სხვადასხვა ფაქტორის გათვალისწინებით. ეს მოდელი დაეხმარება კომპანიას უკეთ დაგეგმოს ფასწარმოქმნის სტრატეგია და გაზარდოს მოგება.\n",
    "\n",
    "\n",
    "**ველის სახელი** | **აღწერა**\n",
    "--------------|-------------\n",
    "`Production_Cost` | პროდუქტის წარმოების ხარჯი (დოლარებში)\n",
    "`Marketing_Spend` | მარკეტინგული დანახარჯები (დოლარებში)\n",
    "`Competitor_Price` | კონკურენტების საშუალო ფასი (დოლარებში)\n",
    "`Market_Demand` | ბაზრის მოთხოვნის ინდექსი (1-100 შკალაზე)\n",
    "`Final_Price` | პროდუქტის საბოლოო გასაყიდი ფასი (დოლარებში)\n"
   ]
  },
  {
   "cell_type": "markdown",
   "metadata": {
    "id": "Kox-alLqNuts"
   },
   "source": [
    "## **1:** მონაცემების ჩატვირთვა და დათვალიერება\n"
   ]
  },
  {
   "cell_type": "code",
   "execution_count": 7,
   "metadata": {
    "colab": {
     "base_uri": "https://localhost:8080/"
    },
    "executionInfo": {
     "elapsed": 556,
     "status": "ok",
     "timestamp": 1736969680880,
     "user": {
      "displayName": "Barbare Gogadze",
      "userId": "08380470288567942400"
     },
     "user_tz": -240
    },
    "id": "j8mjVN1ZZvc2",
    "outputId": "f58728cf-d1e2-4b94-b97d-c076ee5c1b09"
   },
   "outputs": [
    {
     "name": "stdout",
     "output_type": "stream",
     "text": [
      "   Production_Cost  Marketing_Spend  Competitor_Price  Market_Demand  \\\n",
      "0           114.90            31.19            172.99           82.0   \n",
      "1            95.85            27.40            194.22           98.0   \n",
      "2           119.43            20.48            168.30           27.0   \n",
      "3           145.69            14.82            187.68           97.0   \n",
      "4            92.98            25.59            124.26           44.0   \n",
      "\n",
      "   Final_Price  \n",
      "0       315.52  \n",
      "1       296.38  \n",
      "2       310.79  \n",
      "3       370.37  \n",
      "4       247.33  \n",
      "<class 'pandas.core.frame.DataFrame'>\n",
      "RangeIndex: 1000 entries, 0 to 999\n",
      "Data columns (total 5 columns):\n",
      " #   Column            Non-Null Count  Dtype  \n",
      "---  ------            --------------  -----  \n",
      " 0   Production_Cost   1000 non-null   float64\n",
      " 1   Marketing_Spend   1000 non-null   float64\n",
      " 2   Competitor_Price  1000 non-null   float64\n",
      " 3   Market_Demand     1000 non-null   float64\n",
      " 4   Final_Price       1000 non-null   float64\n",
      "dtypes: float64(5)\n",
      "memory usage: 39.2 KB\n",
      "None\n",
      "       Production_Cost  Marketing_Spend  Competitor_Price  Market_Demand  \\\n",
      "count      1000.000000       1000.00000       1000.000000    1000.000000   \n",
      "mean        100.995700         20.58565        200.297130      49.556000   \n",
      "std          28.498123          7.92750         39.163014      28.347071   \n",
      "min          50.000000          0.00000        100.000000       1.000000   \n",
      "25%          80.570000         15.14750        174.082500      25.000000   \n",
      "50%         100.760000         20.50500        199.990000      49.000000   \n",
      "75%         119.437500         25.83000        226.437500      73.000000   \n",
      "max         215.580000         45.54000        357.050000     100.000000   \n",
      "\n",
      "       Final_Price  \n",
      "count  1000.000000  \n",
      "mean    281.684910  \n",
      "std      59.761893  \n",
      "min     147.870000  \n",
      "25%     237.565000  \n",
      "50%     280.450000  \n",
      "75%     322.515000  \n",
      "max     512.910000  \n"
     ]
    }
   ],
   "source": [
    "# დაასრულეთ კოდი\n",
    "\n",
    "import pandas as pd, numpy as np\n",
    "import warnings\n",
    "\n",
    "warnings.filterwarnings(\"ignore\")\n",
    "\n",
    "# მონაცემების ჩატვირთვა\n",
    "df = pd.read_csv(\"product_pricing.csv\")\n",
    "\n",
    "# პირველი რამდენიმე მწკრივი\n",
    "print(df.head())\n",
    "# ზოგადი ინფო\n",
    "print(df.info())\n",
    "# ველების სტატისტიკა\n",
    "print(df.describe())"
   ]
  },
  {
   "cell_type": "markdown",
   "metadata": {
    "id": "b9dcavd6ZzZj"
   },
   "source": [
    "## **2:** ცვლადების ინჟინერია\n",
    "- ნორმალიზება გაუკეთეთ შემდეგ ველებს z-score ფორმულით: `Production_Cost, Marketing_Spend, Competitor_Price, Market_Demand`\n",
    "\n",
    "  $$ z = \\frac{x - \\mu}{\\sigma} $$\n",
    "  \n",
    "    სადაც თითოეული ველისთვის:\n",
    "    - $x$ არის შესაბამისი ველის მნიშვნელობები\n",
    "    - $\\mu$ არის ველის საშუალო (`.mean()`)\n",
    "    - $\\sigma$ არის ველის სტანდარტული გადახრა (`.std()`)\n",
    "\n",
    "\n",
    "- შექმენით მარკეტინგული ხარჯისა და წარმოების ხარჯის თანაფარდობის ველი"
   ]
  },
  {
   "cell_type": "code",
   "execution_count": 8,
   "metadata": {
    "executionInfo": {
     "elapsed": 12,
     "status": "ok",
     "timestamp": 1736969680880,
     "user": {
      "displayName": "Barbare Gogadze",
      "userId": "08380470288567942400"
     },
     "user_tz": -240
    },
    "id": "d3ueXZ8UZ7Le"
   },
   "outputs": [],
   "source": [
    "# Z-score მეთოდით ნორმალიზება\n",
    "for column in [\"Production_Cost\", \"Marketing_Spend\", \"Competitor_Price\", \"Market_Demand\"]:\n",
    "    df[f\"{column}_zscore\"] = (df[column] - df[column].mean()) / df[column].std()\n",
    "\n",
    "# მარკეტინგული ხარჯისა და წარმოების ხარჯის თანაფარდობა\n",
    "df[\"Marketing_to_Production_Ratio\"] = df[\"Marketing_Spend\"] / df[\"Production_Cost\"]"
   ]
  },
  {
   "cell_type": "markdown",
   "metadata": {
    "id": "d45yVN_9Z6Lu"
   },
   "source": [
    "## **3:** მონაცემების დაყოფა\n"
   ]
  },
  {
   "cell_type": "code",
   "execution_count": 9,
   "metadata": {
    "colab": {
     "base_uri": "https://localhost:8080/"
    },
    "executionInfo": {
     "elapsed": 11,
     "status": "ok",
     "timestamp": 1736969680880,
     "user": {
      "displayName": "Barbare Gogadze",
      "userId": "08380470288567942400"
     },
     "user_tz": -240
    },
    "id": "yzee1R9pZ-0K",
    "outputId": "8b21e60b-79b4-4047-c959-a2a5db21cf8e"
   },
   "outputs": [
    {
     "name": "stdout",
     "output_type": "stream",
     "text": [
      "(800, 5) (200, 5)\n"
     ]
    }
   ],
   "source": [
    "# დაასრულეთ კოდი\n",
    "\n",
    "from sklearn.model_selection import train_test_split\n",
    "\n",
    "# ამხსნელი ცვლადების და სამიზნის განსაზღვრა\n",
    "# ამხსნელი\n",
    "X =df[[\"Production_Cost_zscore\", \"Marketing_Spend_zscore\", \"Competitor_Price_zscore\", \"Market_Demand_zscore\", \"Marketing_to_Production_Ratio\"]]\n",
    "#სამიზნე\n",
    "y =df[\"Final_Price\"]\n",
    "\n",
    "# მონაცემების გაყოფა საწვრთნელად და სატესტოდ\n",
    "X_train, X_test, y_train, y_test = train_test_split(X, y, test_size=0.2, random_state=42)\n",
    "\n",
    "# შემოწმება\n",
    "print(X_train.shape, X_test.shape)"
   ]
  },
  {
   "cell_type": "markdown",
   "metadata": {
    "id": "y9HetrqlZ9xQ"
   },
   "source": [
    "## **4:** მოდელის გაწვრთნა და პროგნოზი"
   ]
  },
  {
   "cell_type": "code",
   "execution_count": 10,
   "metadata": {
    "colab": {
     "base_uri": "https://localhost:8080/"
    },
    "executionInfo": {
     "elapsed": 9,
     "status": "ok",
     "timestamp": 1736969680881,
     "user": {
      "displayName": "Barbare Gogadze",
      "userId": "08380470288567942400"
     },
     "user_tz": -240
    },
    "id": "Vq-VK51OQc29",
    "outputId": "14af00c0-21ca-4af4-ef55-420618e11263"
   },
   "outputs": [
    {
     "name": "stdout",
     "output_type": "stream",
     "text": [
      "კოეფიციენტები: [ 55.93735968   5.21681832  12.26354181   5.78684552 -14.44954726]\n",
      "თანაკვეთა: 284.973812404399\n",
      "საპროგნოზო ფასები: [351.8167104  329.71865088 177.87859804 245.94010729 227.95848181\n",
      " 334.28495452 229.87257537 208.82926917 323.26904481 231.93566493\n",
      " 238.27042395 287.43603367 337.04626783 272.98017501 282.79076888\n",
      " 224.61679958 268.12264793 343.00171741 271.05263771 258.03886491\n",
      " 276.46590523 280.17942518 310.67950743 303.10963996 296.8871062\n",
      " 339.84982902 228.50165456 370.86586694 277.51361161 212.93671393\n",
      " 182.90299239 197.75253978 316.31509462 211.46436704 277.530527\n",
      " 277.74806386 240.30664898 315.52057306 251.60131907 341.10489113\n",
      " 315.9703461  306.95342844 339.86735418 254.34975208 298.40283192\n",
      " 225.37317481 369.74822741 234.29075289 257.25617241 246.8071105\n",
      " 275.60009216 339.67425351 276.65127358 182.76195224 175.88387723\n",
      " 259.52835214 314.44632875 231.51197579 178.25127016 237.80057596\n",
      " 337.88022437 319.0108707  317.53540461 514.38028399 303.72315194\n",
      " 222.20368472 280.25399108 294.11534235 306.45782185 356.7457125\n",
      " 290.30803558 242.70147636 298.15272358 203.53112635 242.19535426\n",
      " 248.89226847 278.37999073 264.32624624 228.882564   243.58161688\n",
      " 349.8039585  242.87000054 289.80785899 334.33786496 285.43257301\n",
      " 323.82955418 241.50539829 280.51837355 333.9898082  311.44095739\n",
      " 182.03639512 333.83979383 250.07022506 272.07162001 292.40469523\n",
      " 378.11827662 345.34948243 246.42589056 197.50325073 387.48819401\n",
      " 289.65943999 364.32916693 209.22131738 381.6211587  197.37539172\n",
      " 240.79974693 282.55027118 303.5412698  274.11923061 305.24685716\n",
      " 314.6641897  241.71147725 208.12917791 288.8140718  335.04002082\n",
      " 257.18481465 226.52853928 179.71900245 235.67630254 281.1848416\n",
      " 349.94077395 361.7364966  287.76883817 237.07098999 278.24166691\n",
      " 267.28649237 431.45187145 312.6042695  297.41414852 354.59617244\n",
      " 293.42613567 247.32859752 224.44849443 274.10204832 199.77861433\n",
      " 323.25056112 367.79740719 341.86205298 290.2771568  269.84775643\n",
      " 189.10854028 215.0364872  173.64851648 315.16429432 359.32048813\n",
      " 277.33138383 264.94264316 222.18081149 423.84069695 335.40968539\n",
      " 191.9257235  229.07089998 165.59966757 174.93524427 334.16723245\n",
      " 246.28708376 280.88034577 183.95705188 262.25924315 281.82024114\n",
      " 208.73446081 397.26086661 345.33782085 387.64046432 253.04201403\n",
      " 196.47692173 340.34769513 316.90285197 374.38028749 254.03015165\n",
      " 354.30242857 358.0552889  161.53212972 322.53091561 227.61997359\n",
      " 311.28060876 182.55382883 322.4363901  292.02511538 372.81386825\n",
      " 354.34353082 338.39987172 274.53587467 183.89864831 286.08722656\n",
      " 273.34914742 220.8452661  266.13186351 322.37841065 185.91223811\n",
      " 276.21721452 254.69875548 265.96118014 228.14592966 312.05745867\n",
      " 287.79324578 266.40845045 291.16406579 211.44490692 289.88810872]\n"
     ]
    }
   ],
   "source": [
    "# დაასრულეთ კოდი\n",
    "\n",
    "from sklearn.linear_model import LinearRegression\n",
    "\n",
    "# მოდელის წვრთნა\n",
    "model = LinearRegression()\n",
    "model.fit(X_train, y_train)\n",
    "\n",
    "print(\"კოეფიციენტები:\", model.coef_)\n",
    "print(\"თანაკვეთა:\", model.intercept_)\n",
    "\n",
    "# პროგნოზები სატესტო მონაცემებზე\n",
    "y_pred = model.predict(X_test)\n",
    "print(\"საპროგნოზო ფასები:\", y_pred)\n"
   ]
  },
  {
   "cell_type": "markdown",
   "metadata": {
    "id": "_iv58RppaAdM"
   },
   "source": [
    "## **5:** მოდელის შეფასება\n",
    "  - საშუალო აბსოლუტური ცდომილება (MAE - Mean Absolute Error)\n",
    "  - საშუალო კვადრატული ცდომილება (MSE - Mean Squared Error)\n",
    "  - საშუალო კვადრატული ცდომილების ფესვი (RMSE - Root Mean Squared Error)\n",
    "  - დეტერმინაციის კოეფიციენტი ($R^2$)\n"
   ]
  },
  {
   "cell_type": "code",
   "execution_count": 13,
   "metadata": {
    "colab": {
     "base_uri": "https://localhost:8080/"
    },
    "executionInfo": {
     "elapsed": 437,
     "status": "ok",
     "timestamp": 1736969823448,
     "user": {
      "displayName": "Barbare Gogadze",
      "userId": "08380470288567942400"
     },
     "user_tz": -240
    },
    "id": "M6P1hc7laFWC",
    "outputId": "a40cf02a-5956-4a42-d161-ea92b676089c"
   },
   "outputs": [
    {
     "name": "stdout",
     "output_type": "stream",
     "text": [
      "\n",
      "მოდელის საზომები:\n",
      "საშუალო აბსოლუტური ცდომილება (MAE): 8.135107823339256\n",
      "საშუალო კვადრატული ცდომილება (MSE): 103.4487754987535\n",
      "საშუალო კვადრატული ცდომილების ფესვი (RMSE): 10.17097711622406\n",
      "დეტერმინაციის კოეფიციენტი (R²): 0.9711621880976733\n"
     ]
    }
   ],
   "source": [
    "# დაასრულეთ კოდი\n",
    "\n",
    "from sklearn.metrics import mean_absolute_error, mean_squared_error, r2_score\n",
    "\n",
    "# საზომები\n",
    "mae = mean_absolute_error( y_test, y_pred )\n",
    "mse = mean_squared_error(y_test, y_pred)\n",
    "rmse = np.sqrt(mse)\n",
    "r2 = r2_score( y_test, y_pred)\n",
    "\n",
    "# საზომების ბეჭდვა\n",
    "print(\"\\nმოდელის საზომები:\")\n",
    "print(f\"საშუალო აბსოლუტური ცდომილება (MAE): {mae}\")\n",
    "print(f\"საშუალო კვადრატული ცდომილება (MSE): {mse}\")\n",
    "print(f\"საშუალო კვადრატული ცდომილების ფესვი (RMSE): {rmse}\")\n",
    "print(f\"დეტერმინაციის კოეფიციენტი (R²): {r2}\")\n"
   ]
  },
  {
   "cell_type": "markdown",
   "metadata": {
    "id": "c-eGWljZeH-a"
   },
   "source": [
    "**მიღებული შედეგი აჩვენებს, რომ მოდელი საკმაოდ კარგად მუშაობას\n",
    "(მაგ: დეტერმინაციის კოეფიციენტი მეტია 0.9-ზე, ასევე ცდომილებებშიც დაბალი მაჩვენებელი გამოიკვეთა)**"
   ]
  },
  {
   "cell_type": "markdown",
   "metadata": {
    "id": "rzMyu4p-aEW7"
   },
   "source": [
    "## **6:** რეალური და პროგნოზირებული მნიშვნელობების შედარება\n"
   ]
  },
  {
   "cell_type": "code",
   "execution_count": 16,
   "metadata": {
    "colab": {
     "base_uri": "https://localhost:8080/",
     "height": 474
    },
    "executionInfo": {
     "elapsed": 1085,
     "status": "ok",
     "timestamp": 1736970332365,
     "user": {
      "displayName": "Barbare Gogadze",
      "userId": "08380470288567942400"
     },
     "user_tz": -240
    },
    "id": "fcd4cJsnSheG",
    "outputId": "af4ed6fb-c3f3-405a-ee92-6b404f36078d"
   },
   "outputs": [
    {
     "data": {
      "image/png": "[encoded data removed]",
      "text/plain": [
       "<Figure size 640x480 with 1 Axes>"
      ]
     },
     "metadata": {},
     "output_type": "display_data"
    }
   ],
   "source": [
    "# დაასრულეთ კოდი\n",
    "\n",
    "import matplotlib.pyplot as plt\n",
    "\n",
    "# ააგეთ პროგნოზებისა და ნამდვილი ფასების გაფანტულობის დიაგრამა\n",
    "plt.scatter(y_test, y_pred, alpha=0.7)\n",
    "plt.plot([y_test.min(), y_test.max()], [y_test.min(), y_test.max()], 'k--', lw=2)\n",
    "plt.xlabel('ნამდვილი ფასები')\n",
    "plt.ylabel('პროგნოზირებული ფასები')\n",
    "plt.title('ნამდვილი vs პროგნოზირებული ფასები')\n",
    "plt.show()\n"
   ]
  },
  {
   "cell_type": "code",
   "execution_count": 12,
   "metadata": {
    "executionInfo": {
     "elapsed": 5,
     "status": "ok",
     "timestamp": 1736969681539,
     "user": {
      "displayName": "Barbare Gogadze",
      "userId": "08380470288567942400"
     },
     "user_tz": -240
    },
    "id": "Yku8ONDKbr56"
   },
   "outputs": [],
   "source": []
  }
 ],
 "metadata": {
  "colab": {
   "provenance": [
    {
     "file_id": "1qCeUtwM4NcDWROolq_pXdK9rOBBKTnX5",
     "timestamp": 1736968643232
    }
   ]
  },
  "kernelspec": {
   "display_name": "Python 3 (ipykernel)",
   "language": "python",
   "name": "python3"
  },
  "language_info": {
   "codemirror_mode": {
    "name": "ipython",
    "version": 3
   },
   "file_extension": ".py",
   "mimetype": "text/x-python",
   "name": "python",
   "nbconvert_exporter": "python",
   "pygments_lexer": "ipython3",
   "version": "3.12.7"
  }
 },
 "nbformat": 4,
 "nbformat_minor": 4
}
